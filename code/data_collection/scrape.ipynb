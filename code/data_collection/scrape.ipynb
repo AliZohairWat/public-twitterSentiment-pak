{
 "cells": [
  {
   "cell_type": "code",
   "execution_count": 1,
   "metadata": {},
   "outputs": [],
   "source": [
    "import asyncio\n",
    "from twscrape import API, gather\n",
    "from twscrape.logger import set_log_level\n",
    "import json"
   ]
  },
  {
   "cell_type": "code",
   "execution_count": 3,
   "metadata": {},
   "outputs": [
    {
     "ename": "FileNotFoundError",
     "evalue": "[Errno 2] No such file or directory: 'c:\\\\Users\\\\User\\\\Documents\\\\Ali\\\\Projects\\\\public-twitterSentiment-pak\\\\code\\\\data_collection\\\\config\\\\config.json'",
     "output_type": "error",
     "traceback": [
      "\u001b[1;31m---------------------------------------------------------------------------\u001b[0m",
      "\u001b[1;31mFileNotFoundError\u001b[0m                         Traceback (most recent call last)",
      "Cell \u001b[1;32mIn[3], line 15\u001b[0m\n\u001b[0;32m     12\u001b[0m \u001b[39m# Now you can import modules from the config package\u001b[39;00m\n\u001b[0;32m     13\u001b[0m \u001b[39mimport\u001b[39;00m \u001b[39mconfig_loader\u001b[39;00m \u001b[39mas\u001b[39;00m \u001b[39mcl\u001b[39;00m\n\u001b[1;32m---> 15\u001b[0m config \u001b[39m=\u001b[39m cl\u001b[39m.\u001b[39mload_config()\n",
      "File \u001b[1;32m~\\Documents\\Ali\\Projects\\public-twitterSentiment-pak\\config\\config_loader.py:11\u001b[0m, in \u001b[0;36mload_config\u001b[1;34m()\u001b[0m\n\u001b[0;32m      7\u001b[0m config_path \u001b[39m=\u001b[39m project_root \u001b[39m/\u001b[39m \u001b[39m\"\u001b[39m\u001b[39mconfig\u001b[39m\u001b[39m\"\u001b[39m \u001b[39m/\u001b[39m \u001b[39m\"\u001b[39m\u001b[39mconfig.json\u001b[39m\u001b[39m\"\u001b[39m\n\u001b[0;32m      9\u001b[0m \u001b[39m# Load config.json\u001b[39;00m\n\u001b[1;32m---> 11\u001b[0m \u001b[39mwith\u001b[39;00m config_path\u001b[39m.\u001b[39mopen() \u001b[39mas\u001b[39;00m cf:\n\u001b[0;32m     12\u001b[0m     config \u001b[39m=\u001b[39m json\u001b[39m.\u001b[39mload(cf)\n\u001b[0;32m     14\u001b[0m \u001b[39mreturn\u001b[39;00m config\n",
      "File \u001b[1;32mc:\\Users\\User\\anaconda3\\envs\\pubsent\\Lib\\pathlib.py:1044\u001b[0m, in \u001b[0;36mPath.open\u001b[1;34m(self, mode, buffering, encoding, errors, newline)\u001b[0m\n\u001b[0;32m   1042\u001b[0m \u001b[39mif\u001b[39;00m \u001b[39m\"\u001b[39m\u001b[39mb\u001b[39m\u001b[39m\"\u001b[39m \u001b[39mnot\u001b[39;00m \u001b[39min\u001b[39;00m mode:\n\u001b[0;32m   1043\u001b[0m     encoding \u001b[39m=\u001b[39m io\u001b[39m.\u001b[39mtext_encoding(encoding)\n\u001b[1;32m-> 1044\u001b[0m \u001b[39mreturn\u001b[39;00m io\u001b[39m.\u001b[39mopen(\u001b[39mself\u001b[39m, mode, buffering, encoding, errors, newline)\n",
      "\u001b[1;31mFileNotFoundError\u001b[0m: [Errno 2] No such file or directory: 'c:\\\\Users\\\\User\\\\Documents\\\\Ali\\\\Projects\\\\public-twitterSentiment-pak\\\\code\\\\data_collection\\\\config\\\\config.json'"
     ]
    }
   ],
   "source": [
    "# import sys\n",
    "# from pathlib import Path\n",
    "\n",
    "# # Set the project root directory manually\n",
    "# project_root = Path(\"C:/Users/User/Documents/Ali/Projects/public-twitterSentiment-pak\")\n",
    "\n",
    "# # Construct the absolute path to the config directory\n",
    "# config_directory = project_root / \"config\"\n",
    "\n",
    "# sys.path.append(str(config_directory))\n",
    "\n",
    "# # Now you can import modules from the config package\n",
    "# import config_loader as cl\n",
    "\n",
    "# config = cl.load_config()"
   ]
  },
  {
   "cell_type": "code",
   "execution_count": 2,
   "metadata": {},
   "outputs": [],
   "source": [
    "RAW_DATA_DIR = \"C:/Users/User/Documents/Ali/Projects/public-twitterSentiment-pak/data/raw\"\n",
    "PROCESSED_DATA_DIR = \"C:/Users/User/Documents/Ali/Projects/public-twitterSentiment-pak/data/processed\""
   ]
  },
  {
   "cell_type": "code",
   "execution_count": 3,
   "metadata": {},
   "outputs": [
    {
     "name": "stderr",
     "output_type": "stream",
     "text": [
      "\u001b[32m2023-08-13 12:31:57.278\u001b[0m | \u001b[33m\u001b[1mWARNING \u001b[0m | \u001b[36mtwscrape.accounts_pool\u001b[0m:\u001b[36madd_account\u001b[0m:\u001b[36m76\u001b[0m - \u001b[33m\u001b[1mAccount Ayaan11208109 already exists\u001b[0m\n"
     ]
    }
   ],
   "source": [
    "from scrape_passwords import USER1\n",
    "\n",
    "async def main():\n",
    "    api = API()\n",
    "\n",
    "    # ADD Accounts\n",
    "    # need to make for loop to add_account each user\n",
    "\n",
    "    #await api.pool.add_account(username = \"azee2\", password = \"alizohair1\", email = \"alizohair32@gmail.com\", email_password= \"alizohair1\")\n",
    "    await api.pool.add_account(username = USER1[\"username\"], password = USER1[\"password\"], email = USER1[\"email\"], email_password = USER1[\"email_password\"])\n",
    "    # await api.pool.add_account(username = USER2[\"username\"], password = USER2[\"password\"], email = USER2[\"email\"], email_password = USER2[\"email_password\"])\n",
    "    await api.pool.login_all(email_first=False)\n",
    "\n",
    "    # async for tweet in api.search(\"imran khan\", limit = 1):\n",
    "    #     doc = print(tweet.id, tweet.user.username, tweet.rawContent)\n",
    "\n",
    "    # await gather(api.search(\"imran khan\", limit=1)) \n",
    "\n",
    "    doc = await gather(api.search(\"imran khan\", limit=2))\n",
    "    doc_save = [json.loads(tweet.json()) for tweet in doc]\n",
    "\n",
    "\n",
    "    with open(RAW_DATA_DIR + \"/test.json\", \"w\") as json_file:\n",
    "        json.dump(doc_save, json_file)\n",
    "    \n",
    "    set_log_level(\"DEBUG\")\n",
    "\n",
    "# print(asyncio.get_running_loop())\n",
    "\n",
    "if __name__ == \"__main__\":\n",
    "    await main()"
   ]
  },
  {
   "cell_type": "code",
   "execution_count": null,
   "metadata": {},
   "outputs": [],
   "source": [
    "# sample json files -> dataframe"
   ]
  }
 ],
 "metadata": {
  "kernelspec": {
   "display_name": "pubsent",
   "language": "python",
   "name": "python3"
  },
  "language_info": {
   "codemirror_mode": {
    "name": "ipython",
    "version": 3
   },
   "file_extension": ".py",
   "mimetype": "text/x-python",
   "name": "python",
   "nbconvert_exporter": "python",
   "pygments_lexer": "ipython3",
   "version": "3.11.4"
  },
  "orig_nbformat": 4
 },
 "nbformat": 4,
 "nbformat_minor": 2
}
