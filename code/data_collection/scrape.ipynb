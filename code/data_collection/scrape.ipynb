{
 "cells": [
  {
   "cell_type": "code",
   "execution_count": 2,
   "metadata": {},
   "outputs": [],
   "source": [
    "import asyncio\n",
    "from twscrape import API, gather\n",
    "from twscrape.logger import set_log_level"
   ]
  },
  {
   "cell_type": "code",
   "execution_count": 3,
   "metadata": {},
   "outputs": [
    {
     "name": "stderr",
     "output_type": "stream",
     "text": [
      "\u001b[32m2023-08-11 19:12:01.235\u001b[0m | \u001b[33m\u001b[1mWARNING \u001b[0m | \u001b[36mtwscrape.accounts_pool\u001b[0m:\u001b[36madd_account\u001b[0m:\u001b[36m76\u001b[0m - \u001b[33m\u001b[1mAccount Ayaan11208109 already exists\u001b[0m\n"
     ]
    },
    {
     "name": "stdout",
     "output_type": "stream",
     "text": [
      "1690139038848589824 nesta_m4 This Space does nothing for Imran Khan’s cause.\n",
      "\n",
      "Maybe the language barrier is preventing some people from understanding. The co-host and some speakers are working on a different agenda.\n",
      "\n",
      "Can’t listen to any more of this trivial nonsense.\n",
      "\n",
      "Unfortunately inferiority complex is real even on this platform.\n",
      "1690139023300341760 MaryamK55492491 یوم آزادی قریب ہے۔پر میرا ایک سوال ہے کیا ہم آزاد ہیں؟یہ عمران بھائی کی پچھلے سال کی ویڈیو ہے۔اس سال وہ آزاد ملک میں ہوتے ہوئے آزاد نہیں ہیں۔تو ہم کیسے آزادی منائیں؟ کس بات کی آزادی؟اپنے اپ کو کسی دھوگے  مت رکھیں ہم آزاد نہیں ہیں\n",
      "#FreeImranRiazKhan\n",
      "@saleemkhan98335 \n",
      "@usmanbullet2 https://t.co/ATyDMhLEyb\n",
      "1690138973388079105 ambivert_says @Zabraj__Tariq Beshak\n",
      "1690138949610618880 NawabSahib9123 @TheEconomist Pakistan army has occupied Pakistan since the death of Mr Jinnah but now we have another Jinnah in the shape of Imran Khan and he will give us the Haqeqi Azadi from this mafia\n",
      "1690138942975143936 Imrankhanafc @MadmusclesPlans Claudio ranieri looks pretty good for 45 years old\n",
      "1690138919449313280 FaisalL27804995 @ImranARaja1 @muneebfaruqpak @kirannaz_KN Shameful.. Imran khan and Bushra B B are husband and wife lives in same house in a same room in a same bed then why she has to write a Dairy to tell him what to do… it’s unprecedented and disgusting…. Samajh say bahar hai .🤔\n",
      "1690138914487767041 Zaidislam225 @amalqa_ chacha saleem safi\n",
      "1690138876789362689 dijoni @SecBlinken Secretary Blinken is a conservative warmonger in Joe Biden administration. He did not have concern when the Prime Minister of Pakistan Imran Khan was removed and locked up, not one word of condemnation.\n",
      "1690138874876428288 FSyed20116 @MazMHussain @greg_price11 Thank you\n",
      "Our fascist dictator Army chief Asim munir and ex Army Chief General Bajawa played a dirty game to remove our PM imran Khan these corrupt generals joined hand with opposition leaders most of them are corrupt@CMShehbaz \n",
      "@AAliZardari \n",
      "@BBhuttoZardari &amp; toppled khan govt\n",
      "1690138802482733056 Zahir13456 @MarioNawfal Love you imran khan\n",
      "1690138800356270081 PTIOfficialUSA PTI ATLANTA PROTEST\n",
      "\n",
      "Please join us in a peaceful demonstration for democracy, the rule of law, and human rights in Pakistan. #OverseasPakistanis are protesting the unjust arrest of former Prime Minister Imran Khan. \n",
      "\n",
      "Sunday, Aug 13th, 6:00 PM\n",
      "Atlanta, GA\n",
      "\n",
      "#PTIUSAprotest #ReleaseImranKhan\n",
      "1690138775639175168 ambivert_says @Hadharam_kurri 💯\n",
      "1690138765975506945 Mubeen12670 Check out Waqar Zaka's video! #TikTok https://t.co/4yKTo5jcCZ\n",
      "Prayers for IMRAN KHAN\n",
      "1690138756391583744 nObOdYe76 https://t.co/fzeFE1Pw5X\n",
      "1690138744333242368 hholics267 #ImranKhan_must_be_released\n",
      "1690138724774907904 hwn60 @ARYSabirShakir Yani Danda Imran khan me ghus chuka hai?\n",
      "1690138677026918401 Rameezk53917366 Jasne azadi Mubarak ho 🇵🇰🇧🇫✌️\n",
      "#ImranKhan #ReleaseImranKhan https://t.co/rUMNXoZKHh\n",
      "1690138653719195649 Seher4ImranKhan @mipakwatan @MarioNawfal Why I cannot find the space?\n"
     ]
    }
   ],
   "source": [
    "from scrape_passwords import USER1\n",
    "\n",
    "async def main():\n",
    "    api = API()\n",
    "\n",
    "    # ADD Accounts\n",
    "    #await api.pool.add_account(username = \"azee2\", password = \"alizohair1\", email = \"alizohair32@gmail.com\", email_password= \"alizohair1\")\n",
    "    await api.pool.add_account(username = USER1[\"username\"], password = USER1[\"password\"], email = USER1[\"email\"], email_password = USER1[\"email_password\"])\n",
    "    await api.pool.login_all()\n",
    "\n",
    "    async for tweet in api.search(\"imran khan\", limit = 1):\n",
    "        print(tweet.id, tweet.user.username, tweet.rawContent)\n",
    "\n",
    "    set_log_level(\"DEBUG\")\n",
    "\n",
    "# print(asyncio.get_running_loop())\n",
    "\n",
    "if __name__ == \"__main__\":\n",
    "    await main()"
   ]
  },
  {
   "cell_type": "code",
   "execution_count": null,
   "metadata": {},
   "outputs": [],
   "source": []
  }
 ],
 "metadata": {
  "kernelspec": {
   "display_name": "pubsent",
   "language": "python",
   "name": "python3"
  },
  "language_info": {
   "codemirror_mode": {
    "name": "ipython",
    "version": 3
   },
   "file_extension": ".py",
   "mimetype": "text/x-python",
   "name": "python",
   "nbconvert_exporter": "python",
   "pygments_lexer": "ipython3",
   "version": "3.11.4"
  },
  "orig_nbformat": 4
 },
 "nbformat": 4,
 "nbformat_minor": 2
}
