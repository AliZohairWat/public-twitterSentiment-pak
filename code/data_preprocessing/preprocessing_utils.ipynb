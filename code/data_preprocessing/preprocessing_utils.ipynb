{
 "cells": [
  {
   "cell_type": "markdown",
   "metadata": {},
   "source": [
    "TEMP"
   ]
  },
  {
   "cell_type": "code",
   "execution_count": 1,
   "metadata": {},
   "outputs": [],
   "source": [
    "import pandas as pd\n",
    "import numpy as np\n",
    "import json\n",
    "\n",
    "import sys\n",
    "from pathlib import Path\n",
    "\n",
    "# Set the project root directory manually\n",
    "project_root = Path(\"C:/Users/User/Documents/Ali/Projects/public-twitterSentiment-pak\")\n",
    "\n",
    "# Construct the absolute path to the config directory\n",
    "config_directory = project_root / \"config\"\n",
    "\n",
    "sys.path.append(str(config_directory))\n",
    "\n",
    "# Now you can import modules from the config package\n",
    "import config_loader as cl\n",
    "\n",
    "config = cl.load_config()"
   ]
  },
  {
   "cell_type": "code",
   "execution_count": 2,
   "metadata": {},
   "outputs": [],
   "source": [
    "# Use the .glob() method to find all files with a .json extension\n",
    "json_files = list(config[\"RAW_DATA_DIR\"].glob(\"*.json\"))\n",
    "\n",
    "# # Now you can work with the list of JSON files\n",
    "# for json_file in json_files:\n",
    "#     # Load or process each JSON file\n",
    "\n",
    "# tweets = pd.DataFrame()\n",
    "\n",
    "# Read the contents of the JSON file as a string\n",
    "json_string = json_files[0].read_text()\n",
    "\n",
    "# Parse the JSON content into a Python object (dictionary or list)\n",
    "json_data = json.loads(json_string)\n",
    "\n",
    "tweets = pd.DataFrame.from_dict(json_data)"
   ]
  },
  {
   "cell_type": "code",
   "execution_count": 3,
   "metadata": {},
   "outputs": [],
   "source": [
    "tweets = tweets[['rawContent']]"
   ]
  },
  {
   "cell_type": "code",
   "execution_count": 11,
   "metadata": {},
   "outputs": [],
   "source": [
    "import re\n",
    "import string\n",
    "from unidecode import unidecode\n",
    "import contractions\n",
    "from textblob import TextBlob\n",
    "\n",
    "import nltk\n",
    "from nltk.corpus import stopwords\n",
    "from nltk.tokenize import word_tokenize\n",
    "from nltk.corpus import wordnet\n",
    "from nltk.stem import WordNetLemmatizer"
   ]
  },
  {
   "cell_type": "code",
   "execution_count": null,
   "metadata": {},
   "outputs": [],
   "source": [
    "class TextProcessor:\n",
    "    def __init__(self, X) -> None:\n",
    "        self.X = X\n",
    "\n",
    "    def to_lower(self):\n",
    "        self.X = self.X.apply(lambda x: x.lower())\n",
    "        return self\n",
    "\n",
    "    def expand(self):\n",
    "        self.X = self.X.apply(lambda x: \" \".join([contractions.fix(word) for word in x.split()]))\n",
    "        return self\n",
    "\n",
    "    def remove_num(self):\n",
    "        self.X = self.X.apply(lambda x: re.sub(r'\\d+', '', x))\n",
    "        return self\n",
    "\n",
    "    def remove_punc(self):\n",
    "        self.X = self.X.apply(lambda x: re.sub('[{}]'.format(re.escape(string.punctuation)), '', x))\n",
    "        return self\n",
    "    \n",
    "    def remove_diacritics(self):\n",
    "        self.X = self.X.apply(lambda x: unidecode(x, errors=\"preserve\"))\n",
    "        return self\n",
    "    \n",
    "    def spellcheck(self):\n",
    "        self.X = self.X.apply(lambda x: str(TextBlob(x).correct()))\n",
    "        return self\n",
    "    \n",
    "    \n",
    "\n",
    "\n",
    "# class to translate from urdu to english\n"
   ]
  }
 ],
 "metadata": {
  "kernelspec": {
   "display_name": "pubsent",
   "language": "python",
   "name": "python3"
  },
  "language_info": {
   "codemirror_mode": {
    "name": "ipython",
    "version": 3
   },
   "file_extension": ".py",
   "mimetype": "text/x-python",
   "name": "python",
   "nbconvert_exporter": "python",
   "pygments_lexer": "ipython3",
   "version": "3.11.4"
  },
  "orig_nbformat": 4
 },
 "nbformat": 4,
 "nbformat_minor": 2
}
