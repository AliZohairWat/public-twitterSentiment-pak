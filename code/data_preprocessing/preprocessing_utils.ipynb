{
 "cells": [
  {
   "cell_type": "markdown",
   "metadata": {},
   "source": [
    "TEMP"
   ]
  },
  {
   "cell_type": "code",
   "execution_count": 36,
   "metadata": {},
   "outputs": [],
   "source": [
    "import pandas as pd\n",
    "import numpy as np\n",
    "import json\n",
    "\n",
    "pd.set_option('display.max_rows', None)\n",
    "pd.set_option('display.max_columns', None)\n",
    "\n",
    "import sys\n",
    "from pathlib import Path\n",
    "\n",
    "# Set the project root directory manually\n",
    "project_root = Path(\"C:/Users/User/Documents/Ali/Projects/public-twitterSentiment-pak\")\n",
    "\n",
    "# Construct the absolute path to the config directory\n",
    "config_directory = project_root / \"config\"\n",
    "\n",
    "sys.path.append(str(config_directory))\n",
    "\n",
    "# Now you can import modules from the config package\n",
    "import config_loader as cl\n",
    "\n",
    "config = cl.load_config()"
   ]
  },
  {
   "cell_type": "code",
   "execution_count": 5,
   "metadata": {},
   "outputs": [],
   "source": [
    "# Use the .glob() method to find all files with a .json extension\n",
    "json_files = list(config[\"RAW_DATA_DIR\"].glob(\"*.json\"))\n",
    "\n",
    "# # Now you can work with the list of JSON files\n",
    "# for json_file in json_files:\n",
    "#     # Load or process each JSON file\n",
    "\n",
    "# tweets = pd.DataFrame()\n",
    "\n",
    "# Read the contents of the JSON file as a string\n",
    "json_string = json_files[0].read_text()\n",
    "\n",
    "# Parse the JSON content into a Python object (dictionary or list)\n",
    "json_data = json.loads(json_string)\n",
    "\n",
    "tweets = pd.DataFrame.from_dict(json_data)"
   ]
  },
  {
   "cell_type": "code",
   "execution_count": 6,
   "metadata": {},
   "outputs": [],
   "source": [
    "tweets = tweets[['rawContent']]"
   ]
  },
  {
   "cell_type": "code",
   "execution_count": 9,
   "metadata": {},
   "outputs": [],
   "source": [
    "import re\n",
    "import string\n",
    "from unidecode import unidecode\n",
    "import contractions\n",
    "from textblob import TextBlob\n",
    "\n",
    "import nltk\n",
    "from nltk.corpus import stopwords\n",
    "from nltk.tokenize import word_tokenize\n",
    "from nltk.corpus import wordnet\n",
    "from nltk.stem import WordNetLemmatizer"
   ]
  },
  {
   "cell_type": "code",
   "execution_count": 8,
   "metadata": {},
   "outputs": [],
   "source": [
    "from sklearn.base import TransformerMixin, BaseEstimator"
   ]
  },
  {
   "cell_type": "code",
   "execution_count": 29,
   "metadata": {},
   "outputs": [],
   "source": [
    "pos_tag_dict = {\n",
    "            \"J\": wordnet.ADJ,\n",
    "            \"N\": wordnet.NOUN,\n",
    "            \"V\": wordnet.VERB,\n",
    "            \"R\": wordnet.ADV\n",
    "        }\n",
    "\n",
    "def lemmatize_pos_tagged_text(text, lemmatizer, post_tag_dict):\n",
    "  sentences = nltk.sent_tokenize(text)\n",
    "  new_sentences = []\n",
    "\n",
    "  for sentence in sentences:\n",
    "    sentence = sentence.lower()\n",
    "    new_sentence_words = []\n",
    "\n",
    "    pos_tuples = nltk.pos_tag(nltk.word_tokenize(sentence)) \n",
    "\n",
    "    for word_idx, word in enumerate(nltk.word_tokenize(sentence)):\n",
    "      nltk_word_pos = pos_tuples[word_idx][1]\n",
    "      wordnet_word_pos = pos_tag_dict.get(\n",
    "                          nltk_word_pos[0].upper(), None)\n",
    "      if wordnet_word_pos is not None:\n",
    "        new_word = lemmatizer.lemmatize(word, wordnet_word_pos)\n",
    "      else:\n",
    "        new_word = lemmatizer.lemmatize(word)\n",
    "\n",
    "      new_sentence_words.append(new_word)\n",
    "\n",
    "    new_sentence = \" \".join(new_sentence_words)\n",
    "    new_sentences.append(new_sentence)\n",
    "\n",
    "  return \" \".join(new_sentences)"
   ]
  },
  {
   "cell_type": "code",
   "execution_count": 25,
   "metadata": {},
   "outputs": [],
   "source": [
    "def download(path, name):\n",
    "    try:\n",
    "        nltk.data.find(path)\n",
    "    except LookupError:\n",
    "        print(f'resource {path} not found. Downloading now...')\n",
    "        nltk.download(name)\n",
    "\n",
    "class TextProcessor:\n",
    "    def __init__(self, X) -> None:\n",
    "        self.X = X\n",
    "\n",
    "        download('corpora/stopwords', 'stopwords')\n",
    "        download('tokenizers/punkt', 'punkt')\n",
    "        download('taggers/averaged_perceptron_tagger',\n",
    "                                'averaged_perceptron_tagger')\n",
    "        download('corpora/wordnet', 'wordnet')\n",
    "        # download('corpora/omw-1.4', 'omw-1.4')\n",
    "\n",
    "        self.sw_nltk = stopwords.words('english')\n",
    "        self.sw_nltk.remove('not')\n",
    "        self.lemmatizer = WordNetLemmatizer()\n",
    "\n",
    "        self.pos_tag_dict = {\n",
    "            \"J\": wordnet.ADJ,\n",
    "            \"N\": wordnet.NOUN,\n",
    "            \"V\": wordnet.VERB,\n",
    "            \"R\": wordnet.ADV\n",
    "        }\n",
    "\n",
    "\n",
    "    def to_lower(self):\n",
    "        self.X = self.X.apply(lambda x: x.lower())\n",
    "        return self\n",
    "\n",
    "    def expand(self):\n",
    "        self.X = self.X.apply(lambda x: \" \".join([contractions.fix(word) for word in x.split()]))\n",
    "        return self\n",
    "\n",
    "    def remove_num(self):\n",
    "        self.X = self.X.apply(lambda x: re.sub(r'\\d+', '', x))\n",
    "        return self\n",
    "\n",
    "    def remove_punc(self):\n",
    "        self.X = self.X.apply(lambda x: re.sub('[{}]'.format(re.escape(string.punctuation)), '', x))\n",
    "        return self\n",
    "    \n",
    "    def replace_diacritics(self):\n",
    "        self.X = self.X.apply(lambda x: unidecode(str(x), errors=\"preserve\"))\n",
    "        return self\n",
    "    \n",
    "    def spellcheck(self):\n",
    "        self.X = self.X.apply(lambda x: str(TextBlob(x).correct()))\n",
    "        return self\n",
    "    \n",
    "    def remove_stopwords(self):\n",
    "        self.X = self.X.apply(lambda x: \" \".join([ word for word in x.split() if word not in self.sw_nltk]))\n",
    "        return self\n",
    "    \n",
    "    def lemmatize(self):\n",
    "        self.X = self.X.apply(lambda x: lemmatize_pos_tagged_text(x, self.lemmatizer, self.pos_tag_dict))\n",
    "        return self\n",
    "    \n",
    "    def get_processed_text(self):\n",
    "        return self.X\n"
   ]
  },
  {
   "cell_type": "code",
   "execution_count": 32,
   "metadata": {},
   "outputs": [],
   "source": [
    "class SentimentTextProcessor(TransformerMixin, BaseEstimator):\n",
    "    def __init__(self) -> None:\n",
    "        pass\n",
    "\n",
    "    def fit(self, X):\n",
    "        return self\n",
    "    \n",
    "    def transform(self, X):\n",
    "        txt_preproc = TextProcessor(X.copy())\n",
    "\n",
    "        processed_text = txt_preproc.replace_diacritics()\\\n",
    "        .expand().remove_num().spellcheck().remove_punc()\\\n",
    "        .lemmatize().remove_stopwords().get_processed_text()\n",
    "\n",
    "        return processed_text\n",
    "\n",
    "class TopicModellingTextProcessor(TransformerMixin, BaseEstimator):\n",
    "    def __init__(self) -> None:\n",
    "        pass\n",
    "\n",
    "    def fit(self, X):\n",
    "        return self\n",
    "    \n",
    "    def transform(self, X):\n",
    "        txt_preproc = TextProcessor(X.copy())\n",
    "\n",
    "        processed_text = txt_preproc.replace_diacritics()\\\n",
    "        .expand().spellcheck().get_processed_text()\n",
    "\n",
    "        return processed_text\n",
    "    "
   ]
  },
  {
   "cell_type": "code",
   "execution_count": 13,
   "metadata": {},
   "outputs": [],
   "source": [
    "# class to translate from urdu to english\n",
    "from googletrans import Translator\n",
    "\n",
    "class TextTranslator(TransformerMixin, BaseEstimator):\n",
    "    def __init__(self, dest_lang, source_lang = None) -> None:\n",
    "        self.translator = Translator()\n",
    "        self.dest_lang = dest_lang\n",
    "        self.source_lang = source_lang\n",
    "\n",
    "\n",
    "    def fit(self, X):\n",
    "        return self\n",
    "    \n",
    "    def transform(self, X):\n",
    "        return self._batch_translate_texts(X)\n",
    "    \n",
    "    def _batch_translate_texts(self, texts):\n",
    "        if self.source_lang:\n",
    "            return self._translate_batch_with_source(texts)\n",
    "        else:\n",
    "            return self._translate_batch_without_source(texts)\n",
    "    \n",
    "\n",
    "    def _translate_batch_without_source(self, texts):\n",
    "        non_english_texts = [text for text in texts if not self._is_english(text)]\n",
    "        \n",
    "        # Perform batch translation only for non-English texts\n",
    "        if non_english_texts:\n",
    "            translated_texts = self._translate_batch(non_english_texts)\n",
    "            translated_idx = 0\n",
    "            final_translated_texts = []\n",
    "            \n",
    "            for text in texts:\n",
    "                if self._is_english(text):\n",
    "                    final_translated_texts.append(text)\n",
    "                else:\n",
    "                    final_translated_texts.append(translated_texts[translated_idx])\n",
    "                    translated_idx += 1\n",
    "        else:\n",
    "            final_translated_texts = texts\n",
    "        \n",
    "        return final_translated_texts\n",
    "    \n",
    "    def _translate_batch_with_source(self, texts):\n",
    "        # to be implemented later\n",
    "        pass\n",
    "    \n",
    "\n",
    "    def _is_english(self, text):\n",
    "        return self.translator.detect(text).lang == 'en'\n",
    "    \n",
    "    def _batch_translate(self, texts):\n",
    "        translations = self.translator.translate(texts, dest = self.dest_lang)\n",
    "        \n",
    "        translated_texts = []\n",
    "        for translation in translations:\n",
    "            translated_texts.append(translation.text) \n",
    "\n",
    "        return translated_texts\n",
    "\n",
    "# translator = Translator()\n",
    "# print(translator.translate('你好'))"
   ]
  },
  {
   "cell_type": "code",
   "execution_count": 26,
   "metadata": {},
   "outputs": [
    {
     "data": {
      "text/plain": [
       "pandas.core.frame.DataFrame"
      ]
     },
     "execution_count": 26,
     "metadata": {},
     "output_type": "execute_result"
    }
   ],
   "source": [
    "type(tweets)"
   ]
  },
  {
   "cell_type": "code",
   "execution_count": 27,
   "metadata": {},
   "outputs": [
    {
     "data": {
      "text/plain": [
       "pandas.core.series.Series"
      ]
     },
     "execution_count": 27,
     "metadata": {},
     "output_type": "execute_result"
    }
   ],
   "source": [
    "type(tweets.loc[0])"
   ]
  },
  {
   "cell_type": "code",
   "execution_count": 33,
   "metadata": {},
   "outputs": [
    {
     "name": "stdout",
     "output_type": "stream",
     "text": [
      "resource corpora/wordnet not found. Downloading now...\n"
     ]
    },
    {
     "name": "stderr",
     "output_type": "stream",
     "text": [
      "[nltk_data] Downloading package wordnet to\n",
      "[nltk_data]     C:\\Users\\User\\AppData\\Roaming\\nltk_data...\n",
      "[nltk_data]   Package wordnet is already up-to-date!\n"
     ]
    }
   ],
   "source": [
    "test_processor = SentimentTextProcessor()\n",
    "processed_tweets = test_processor.fit_transform(tweets)\n"
   ]
  },
  {
   "cell_type": "code",
   "execution_count": 40,
   "metadata": {},
   "outputs": [
    {
     "name": "stdout",
     "output_type": "stream",
     "text": [
      "rawContent    adeelasifpk shkhlyn dykhhwn news part oh hot f...\n",
      "dtype: object\n"
     ]
    }
   ],
   "source": [
    "print(processed_tweets)"
   ]
  }
 ],
 "metadata": {
  "kernelspec": {
   "display_name": "pubsent",
   "language": "python",
   "name": "python3"
  },
  "language_info": {
   "codemirror_mode": {
    "name": "ipython",
    "version": 3
   },
   "file_extension": ".py",
   "mimetype": "text/x-python",
   "name": "python",
   "nbconvert_exporter": "python",
   "pygments_lexer": "ipython3",
   "version": "3.11.4"
  },
  "orig_nbformat": 4
 },
 "nbformat": 4,
 "nbformat_minor": 2
}
