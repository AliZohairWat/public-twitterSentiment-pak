{
 "cells": [
  {
   "cell_type": "code",
   "execution_count": 1,
   "metadata": {},
   "outputs": [
    {
     "name": "stdout",
     "output_type": "stream",
     "text": [
      "{'RAW_DATA_DIR': WindowsPath('C:/Users/User/Documents/Ali/Projects/public-twitterSentiment-pak/data/raw'), 'PROCESSED_DATA_DIR': WindowsPath('C:/Users/User/Documents/Ali/Projects/public-twitterSentiment-pak/data/processed')}\n"
     ]
    }
   ],
   "source": [
    "import sys\n",
    "from pathlib import Path\n",
    "\n",
    "# Set the project root directory manually\n",
    "project_root = Path(\"C:/Users/User/Documents/Ali/Projects/public-twitterSentiment-pak\")\n",
    "\n",
    "# Construct the absolute path to the config directory\n",
    "config_directory = project_root / \"config\"\n",
    "\n",
    "sys.path.append(str(config_directory))\n",
    "\n",
    "# Now you can import modules from the config package\n",
    "import config_loader as cl\n",
    "\n",
    "config = cl.load_config()"
   ]
  },
  {
   "cell_type": "code",
   "execution_count": null,
   "metadata": {},
   "outputs": [],
   "source": [
    "raw_data_dir = "
   ]
  }
 ],
 "metadata": {
  "kernelspec": {
   "display_name": "pubsent",
   "language": "python",
   "name": "python3"
  },
  "language_info": {
   "codemirror_mode": {
    "name": "ipython",
    "version": 3
   },
   "file_extension": ".py",
   "mimetype": "text/x-python",
   "name": "python",
   "nbconvert_exporter": "python",
   "pygments_lexer": "ipython3",
   "version": "3.11.4"
  },
  "orig_nbformat": 4
 },
 "nbformat": 4,
 "nbformat_minor": 2
}
